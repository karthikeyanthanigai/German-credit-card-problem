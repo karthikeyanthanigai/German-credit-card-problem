{
  "nbformat": 4,
  "nbformat_minor": 0,
  "metadata": {
    "colab": {
      "name": "credit_card_prediction",
      "provenance": [],
      "authorship_tag": "ABX9TyMXWesE8nW40BWVWZprii4I",
      "include_colab_link": true
    },
    "kernelspec": {
      "name": "python3",
      "display_name": "Python 3"
    }
  },
  "cells": [
    {
      "cell_type": "markdown",
      "metadata": {
        "id": "view-in-github",
        "colab_type": "text"
      },
      "source": [
        "<a href=\"https://colab.research.google.com/github/karthikeyanthanigai/German-credit-card-problem/blob/master/credit_card_prediction.ipynb\" target=\"_parent\"><img src=\"https://colab.research.google.com/assets/colab-badge.svg\" alt=\"Open In Colab\"/></a>"
      ]
    },
    {
      "cell_type": "code",
      "metadata": {
        "id": "u77QEmhADURe",
        "colab_type": "code",
        "colab": {}
      },
      "source": [
        "#Import the Libraries\n",
        "import pandas as pd\n",
        "import numpy as np\n",
        "import matplotlib.pyplot as plt"
      ],
      "execution_count": 0,
      "outputs": []
    },
    {
      "cell_type": "markdown",
      "metadata": {
        "id": "zsU1k4otEo1N",
        "colab_type": "text"
      },
      "source": [
        "![alt text](https://medici-prod.s3-us-west-2.amazonaws.com/uploads/are-credit-cards-the-same-in-the-us-and-canada.jpg)"
      ]
    },
    {
      "cell_type": "code",
      "metadata": {
        "id": "Bi82cgDyDXCo",
        "colab_type": "code",
        "colab": {}
      },
      "source": [
        "#Importing the Dataset\n",
        "Dataset = pd.read_csv(\"german_credit_data_dataset.csv\")\n",
        "X = Dataset.iloc[:, :-1].values\n",
        "y = Dataset.iloc[:, [-1]].values"
      ],
      "execution_count": 0,
      "outputs": []
    },
    {
      "cell_type": "code",
      "metadata": {
        "id": "WMnmnNBWDW9x",
        "colab_type": "code",
        "colab": {}
      },
      "source": [
        "#list all the string value and convert them in to int values!!\n",
        "#Note we are doing only labelencoder \n",
        "from sklearn.preprocessing import LabelEncoder\n",
        "labelencoder = LabelEncoder()\n",
        "X[:, 0] = labelencoder.fit_transform(X[:, 0])\n",
        "\n",
        "X[:, 2] = labelencoder.fit_transform(X[:, 2])\n",
        "\n",
        "X[:, 3] = labelencoder.fit_transform(X[:, 3])\n",
        "\n",
        "X[:, 5] = labelencoder.fit_transform(X[:, 5])\n",
        "\n",
        "X[:, 6] = labelencoder.fit_transform(X[:, 6])\n",
        "\n",
        "X[:, 8] = labelencoder.fit_transform(X[:, 8])\n",
        "\n",
        "X[:, 9] = labelencoder.fit_transform(X[:, 9])\n",
        "\n",
        "X[:, 11] = labelencoder.fit_transform(X[:, 11])\n",
        "\n",
        "X[:, 13] = labelencoder.fit_transform(X[:, 13])\n",
        "\n",
        "X[:, 14] = labelencoder.fit_transform(X[:, 14])\n",
        "\n",
        "X[:, 16] = labelencoder.fit_transform(X[:, 16])\n",
        "\n",
        "X[:, 18] = labelencoder.fit_transform(X[:, 18])\n",
        "\n",
        "X[:, 19] = labelencoder.fit_transform(X[:, 19])\n"
      ],
      "execution_count": 0,
      "outputs": []
    },
    {
      "cell_type": "code",
      "metadata": {
        "id": "BbYD0adKDWrz",
        "colab_type": "code",
        "colab": {
          "base_uri": "https://localhost:8080/",
          "height": 136
        },
        "outputId": "5344b5b8-4d76-41e9-c982-196abe0285e1"
      },
      "source": [
        "#new X values:\n",
        "print(X)\n"
      ],
      "execution_count": 4,
      "outputs": [
        {
          "output_type": "stream",
          "text": [
            "[[0 6 4 ... 1 1 0]\n",
            " [1 48 2 ... 1 0 0]\n",
            " [3 12 4 ... 2 0 0]\n",
            " ...\n",
            " [3 12 2 ... 1 0 0]\n",
            " [0 45 2 ... 1 1 0]\n",
            " [1 45 4 ... 1 0 0]]\n"
          ],
          "name": "stdout"
        }
      ]
    },
    {
      "cell_type": "code",
      "metadata": {
        "id": "4csLdtPdDWpT",
        "colab_type": "code",
        "colab": {}
      },
      "source": [
        "#feature scale our independent variables \n",
        "from sklearn.preprocessing import StandardScaler\n",
        "sc_X = StandardScaler()\n",
        "X = sc_X.fit_transform(X)"
      ],
      "execution_count": 0,
      "outputs": []
    },
    {
      "cell_type": "code",
      "metadata": {
        "id": "xg6A78ZGDWkx",
        "colab_type": "code",
        "colab": {}
      },
      "source": [
        "#Splitting the dataset into training and testing set's\n",
        "from sklearn.model_selection import train_test_split\n",
        "X_train , X_test, y_train, y_test = train_test_split(X, y, test_size= 0.3, random_state=0, shuffle=True)\n"
      ],
      "execution_count": 0,
      "outputs": []
    },
    {
      "cell_type": "code",
      "metadata": {
        "id": "5v34jBCiDWgD",
        "colab_type": "code",
        "colab": {
          "base_uri": "https://localhost:8080/",
          "height": 71
        },
        "outputId": "808820c9-143d-4124-a235-e89e07c6ea99"
      },
      "source": [
        "#Logistic Regression model. \n",
        "from sklearn.linear_model import LogisticRegression\n",
        "classifier = LogisticRegression(max_iter=1000, random_state =0, solver='liblinear',multi_class='ovr')\n",
        "classifier.fit(X_train, y_train)\n",
        "\n",
        "#predict with test set\n",
        "y_pred = classifier.predict(X_test)"
      ],
      "execution_count": 7,
      "outputs": [
        {
          "output_type": "stream",
          "text": [
            "/usr/local/lib/python3.6/dist-packages/sklearn/utils/validation.py:760: DataConversionWarning: A column-vector y was passed when a 1d array was expected. Please change the shape of y to (n_samples, ), for example using ravel().\n",
            "  y = column_or_1d(y, warn=True)\n"
          ],
          "name": "stderr"
        }
      ]
    },
    {
      "cell_type": "code",
      "metadata": {
        "id": "kddzY1gdDWa3",
        "colab_type": "code",
        "colab": {
          "base_uri": "https://localhost:8080/",
          "height": 68
        },
        "outputId": "8335923f-974f-4dac-b7fd-1cd093c7ca25"
      },
      "source": [
        "\n",
        "#evaluating our model.\n",
        "from sklearn.metrics import confusion_matrix, accuracy_score, f1_score\n",
        "acc_train = accuracy_score(y_train, classifier.predict(X_train))\n",
        "f1_train = f1_score(y_train, classifier.predict(X_train), average= 'weighted')\n",
        "\n",
        "print(\"Traing set results\")\n",
        "print(\"ACCURACY for train set\",acc_train)\n",
        "print(\"F1 SCORE for train set\",f1_train)"
      ],
      "execution_count": 8,
      "outputs": [
        {
          "output_type": "stream",
          "text": [
            "Traing set results\n",
            "ACCURACY for train set 0.7757142857142857\n",
            "F1 SCORE for train set 0.7636969195226275\n"
          ],
          "name": "stdout"
        }
      ]
    },
    {
      "cell_type": "code",
      "metadata": {
        "id": "PfEbgZPhDWXI",
        "colab_type": "code",
        "colab": {
          "base_uri": "https://localhost:8080/",
          "height": 68
        },
        "outputId": "178c92ef-8e91-4378-bd48-935d646ae38f"
      },
      "source": [
        "#evaluate with test set\n",
        "acc_test = accuracy_score(y_test, y_pred)\n",
        "f1_test = f1_score(y_test, y_pred, average= 'weighted')\n",
        "\n",
        "print(\"Test set results\")\n",
        "print(\"ACCURACY for test set\",acc_test)\n",
        "print(\"F1 SCORE for test set\",f1_test)"
      ],
      "execution_count": 9,
      "outputs": [
        {
          "output_type": "stream",
          "text": [
            "Test set results\n",
            "ACCURACY for test set 0.7666666666666667\n",
            "F1 SCORE for test set 0.7631162825389721\n"
          ],
          "name": "stdout"
        }
      ]
    },
    {
      "cell_type": "code",
      "metadata": {
        "id": "Gf2XKdNXECYv",
        "colab_type": "code",
        "colab": {
          "base_uri": "https://localhost:8080/",
          "height": 51
        },
        "outputId": "46ad48e2-2626-4561-ee64-73b9b1aa6def"
      },
      "source": [
        "#Confusion Matrix \n",
        "cm = confusion_matrix(y_test,y_pred)\n",
        "print(cm)"
      ],
      "execution_count": 10,
      "outputs": [
        {
          "output_type": "stream",
          "text": [
            "[[183  31]\n",
            " [ 39  47]]\n"
          ],
          "name": "stdout"
        }
      ]
    },
    {
      "cell_type": "code",
      "metadata": {
        "id": "e1jh_uumERRM",
        "colab_type": "code",
        "colab": {}
      },
      "source": [
        ""
      ],
      "execution_count": 0,
      "outputs": []
    }
  ]
}